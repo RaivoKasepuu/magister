{
 "cells": [
  {
   "cell_type": "code",
   "execution_count": 5,
   "metadata": {},
   "outputs": [
    {
     "name": "stdout",
     "output_type": "stream",
     "text": [
      "Collecting numpy==1.21.6\r\n",
      "  Using cached numpy-1.21.6-cp310-cp310-manylinux_2_17_x86_64.manylinux2014_x86_64.whl (15.9 MB)\r\n",
      "Installing collected packages: numpy\r\n",
      "Successfully installed numpy-1.21.6\r\n",
      "\r\n",
      "\u001b[1m[\u001b[0m\u001b[34;49mnotice\u001b[0m\u001b[1;39;49m]\u001b[0m\u001b[39;49m A new release of pip available: \u001b[0m\u001b[31;49m22.2.2\u001b[0m\u001b[39;49m -> \u001b[0m\u001b[32;49m22.3.1\u001b[0m\r\n",
      "\u001b[1m[\u001b[0m\u001b[34;49mnotice\u001b[0m\u001b[1;39;49m]\u001b[0m\u001b[39;49m To update, run: \u001b[0m\u001b[32;49mpip install --upgrade pip\u001b[0m\r\n"
     ]
    }
   ],
   "source": [
    "!pip install numpy==1.21.6"
   ]
  },
  {
   "cell_type": "code",
   "execution_count": null,
   "metadata": {
    "pycharm": {
     "is_executing": true
    }
   },
   "outputs": [],
   "source": [
    "import numpy\n",
    "print(numpy.__version__)"
   ]
  },
  {
   "cell_type": "code",
   "execution_count": 7,
   "metadata": {},
   "outputs": [
    {
     "name": "stdout",
     "output_type": "stream",
     "text": [
      "Requirement already satisfied: librosa==0.8.1 in ./Magistritöö/env/lib/python3.10/site-packages (0.8.1)\r\n",
      "Requirement already satisfied: packaging>=20.0 in ./Magistritöö/env/lib/python3.10/site-packages (from librosa==0.8.1) (22.0)\r\n",
      "Requirement already satisfied: decorator>=3.0.0 in ./Magistritöö/env/lib/python3.10/site-packages (from librosa==0.8.1) (5.1.1)\r\n",
      "Requirement already satisfied: soundfile>=0.10.2 in ./Magistritöö/env/lib/python3.10/site-packages (from librosa==0.8.1) (0.11.0)\r\n",
      "Requirement already satisfied: scikit-learn!=0.19.0,>=0.14.0 in ./Magistritöö/env/lib/python3.10/site-packages (from librosa==0.8.1) (1.2.0)\r\n",
      "Requirement already satisfied: pooch>=1.0 in ./Magistritöö/env/lib/python3.10/site-packages (from librosa==0.8.1) (1.6.0)\r\n",
      "Requirement already satisfied: numba>=0.43.0 in ./Magistritöö/env/lib/python3.10/site-packages (from librosa==0.8.1) (0.56.4)\r\n",
      "Requirement already satisfied: numpy>=1.15.0 in ./Magistritöö/env/lib/python3.10/site-packages (from librosa==0.8.1) (1.21.6)\r\n",
      "Requirement already satisfied: scipy>=1.0.0 in ./Magistritöö/env/lib/python3.10/site-packages (from librosa==0.8.1) (1.9.3)\r\n",
      "Requirement already satisfied: resampy>=0.2.2 in ./Magistritöö/env/lib/python3.10/site-packages (from librosa==0.8.1) (0.4.2)\r\n",
      "Requirement already satisfied: audioread>=2.0.0 in ./Magistritöö/env/lib/python3.10/site-packages (from librosa==0.8.1) (3.0.0)\r\n",
      "Requirement already satisfied: joblib>=0.14 in ./Magistritöö/env/lib/python3.10/site-packages (from librosa==0.8.1) (1.2.0)\r\n",
      "Requirement already satisfied: setuptools in ./Magistritöö/env/lib/python3.10/site-packages (from numba>=0.43.0->librosa==0.8.1) (65.3.0)\r\n",
      "Requirement already satisfied: llvmlite<0.40,>=0.39.0dev0 in ./Magistritöö/env/lib/python3.10/site-packages (from numba>=0.43.0->librosa==0.8.1) (0.39.1)\r\n",
      "Requirement already satisfied: appdirs>=1.3.0 in ./Magistritöö/env/lib/python3.10/site-packages (from pooch>=1.0->librosa==0.8.1) (1.4.4)\r\n",
      "Requirement already satisfied: requests>=2.19.0 in ./Magistritöö/env/lib/python3.10/site-packages (from pooch>=1.0->librosa==0.8.1) (2.28.1)\r\n",
      "Requirement already satisfied: threadpoolctl>=2.0.0 in ./Magistritöö/env/lib/python3.10/site-packages (from scikit-learn!=0.19.0,>=0.14.0->librosa==0.8.1) (3.1.0)\r\n",
      "Requirement already satisfied: cffi>=1.0 in ./Magistritöö/env/lib/python3.10/site-packages (from soundfile>=0.10.2->librosa==0.8.1) (1.15.1)\r\n",
      "Requirement already satisfied: pycparser in ./Magistritöö/env/lib/python3.10/site-packages (from cffi>=1.0->soundfile>=0.10.2->librosa==0.8.1) (2.21)\r\n",
      "Requirement already satisfied: idna<4,>=2.5 in ./Magistritöö/env/lib/python3.10/site-packages (from requests>=2.19.0->pooch>=1.0->librosa==0.8.1) (3.4)\r\n",
      "Requirement already satisfied: urllib3<1.27,>=1.21.1 in ./Magistritöö/env/lib/python3.10/site-packages (from requests>=2.19.0->pooch>=1.0->librosa==0.8.1) (1.26.13)\r\n",
      "Requirement already satisfied: charset-normalizer<3,>=2 in ./Magistritöö/env/lib/python3.10/site-packages (from requests>=2.19.0->pooch>=1.0->librosa==0.8.1) (2.1.1)\r\n",
      "Requirement already satisfied: certifi>=2017.4.17 in ./Magistritöö/env/lib/python3.10/site-packages (from requests>=2.19.0->pooch>=1.0->librosa==0.8.1) (2022.12.7)\r\n",
      "\r\n",
      "\u001b[1m[\u001b[0m\u001b[34;49mnotice\u001b[0m\u001b[1;39;49m]\u001b[0m\u001b[39;49m A new release of pip available: \u001b[0m\u001b[31;49m22.2.2\u001b[0m\u001b[39;49m -> \u001b[0m\u001b[32;49m22.3.1\u001b[0m\r\n",
      "\u001b[1m[\u001b[0m\u001b[34;49mnotice\u001b[0m\u001b[1;39;49m]\u001b[0m\u001b[39;49m To update, run: \u001b[0m\u001b[32;49mpip install --upgrade pip\u001b[0m\r\n"
     ]
    }
   ],
   "source": [
    "!pip install librosa==0.8.1"
   ]
  },
  {
   "cell_type": "code",
   "execution_count": null,
   "metadata": {
    "collapsed": true,
    "pycharm": {
     "is_executing": true
    }
   },
   "outputs": [],
   "source": [
    "import librosa\n",
    "print(librosa.__version__)"
   ]
  },
  {
   "cell_type": "code",
   "execution_count": 9,
   "metadata": {},
   "outputs": [
    {
     "name": "stdout",
     "output_type": "stream",
     "text": [
      "Collecting musicnn\r\n",
      "  Using cached musicnn-0.1.0-py3-none-any.whl (29.3 MB)\r\n",
      "Collecting numpy<1.17,>=1.14.5\r\n",
      "  Using cached numpy-1.16.6.zip (5.1 MB)\r\n",
      "  Preparing metadata (setup.py) ... \u001b[?25ldone\r\n",
      "\u001b[?25hRequirement already satisfied: librosa>=0.7.0 in ./Magistritöö/env/lib/python3.10/site-packages (from musicnn) (0.8.1)\r\n",
      "Collecting tensorflow>=1.14\r\n",
      "  Using cached tensorflow-2.11.0-cp310-cp310-manylinux_2_17_x86_64.manylinux2014_x86_64.whl (588.3 MB)\r\n",
      "Requirement already satisfied: resampy>=0.2.2 in ./Magistritöö/env/lib/python3.10/site-packages (from librosa>=0.7.0->musicnn) (0.4.2)\r\n",
      "Requirement already satisfied: packaging>=20.0 in ./Magistritöö/env/lib/python3.10/site-packages (from librosa>=0.7.0->musicnn) (22.0)\r\n",
      "Requirement already satisfied: scikit-learn!=0.19.0,>=0.14.0 in ./Magistritöö/env/lib/python3.10/site-packages (from librosa>=0.7.0->musicnn) (1.2.0)\r\n",
      "Requirement already satisfied: scipy>=1.0.0 in ./Magistritöö/env/lib/python3.10/site-packages (from librosa>=0.7.0->musicnn) (1.9.3)\r\n",
      "Requirement already satisfied: pooch>=1.0 in ./Magistritöö/env/lib/python3.10/site-packages (from librosa>=0.7.0->musicnn) (1.6.0)\r\n",
      "Requirement already satisfied: numba>=0.43.0 in ./Magistritöö/env/lib/python3.10/site-packages (from librosa>=0.7.0->musicnn) (0.56.4)\r\n",
      "Requirement already satisfied: soundfile>=0.10.2 in ./Magistritöö/env/lib/python3.10/site-packages (from librosa>=0.7.0->musicnn) (0.11.0)\r\n",
      "Requirement already satisfied: audioread>=2.0.0 in ./Magistritöö/env/lib/python3.10/site-packages (from librosa>=0.7.0->musicnn) (3.0.0)\r\n",
      "Requirement already satisfied: joblib>=0.14 in ./Magistritöö/env/lib/python3.10/site-packages (from librosa>=0.7.0->musicnn) (1.2.0)\r\n",
      "Requirement already satisfied: decorator>=3.0.0 in ./Magistritöö/env/lib/python3.10/site-packages (from librosa>=0.7.0->musicnn) (5.1.1)\r\n",
      "Requirement already satisfied: setuptools in ./Magistritöö/env/lib/python3.10/site-packages (from tensorflow>=1.14->musicnn) (65.3.0)\r\n",
      "Collecting gast<=0.4.0,>=0.2.1\r\n",
      "  Using cached gast-0.4.0-py3-none-any.whl (9.8 kB)\r\n",
      "Collecting keras<2.12,>=2.11.0\r\n",
      "  Using cached keras-2.11.0-py2.py3-none-any.whl (1.7 MB)\r\n",
      "Collecting wrapt>=1.11.0\r\n",
      "  Using cached wrapt-1.14.1-cp310-cp310-manylinux_2_5_x86_64.manylinux1_x86_64.manylinux_2_17_x86_64.manylinux2014_x86_64.whl (77 kB)\r\n",
      "Collecting typing-extensions>=3.6.6\r\n",
      "  Using cached typing_extensions-4.4.0-py3-none-any.whl (26 kB)\r\n",
      "Collecting tensorflow>=1.14\r\n",
      "  Using cached tensorflow-2.10.1-cp310-cp310-manylinux_2_17_x86_64.manylinux2014_x86_64.whl (578.1 MB)\r\n",
      "  Using cached tensorflow-2.10.0-cp310-cp310-manylinux_2_17_x86_64.manylinux2014_x86_64.whl (578.0 MB)\r\n",
      "  Using cached tensorflow-2.9.3-cp310-cp310-manylinux_2_17_x86_64.manylinux2014_x86_64.whl (511.8 MB)\r\n",
      "Collecting tensorboard<2.10,>=2.9\r\n",
      "  Using cached tensorboard-2.9.1-py3-none-any.whl (5.8 MB)\r\n",
      "Collecting tensorflow>=1.14\r\n",
      "  Using cached tensorflow-2.9.2-cp310-cp310-manylinux_2_17_x86_64.manylinux2014_x86_64.whl (511.8 MB)\r\n",
      "  Using cached tensorflow-2.9.1-cp310-cp310-manylinux_2_17_x86_64.manylinux2014_x86_64.whl (511.7 MB)\r\n",
      "  Using cached tensorflow-2.9.0-cp310-cp310-manylinux_2_17_x86_64.manylinux2014_x86_64.whl (511.7 MB)\r\n",
      "  Using cached tensorflow-2.8.4-cp310-cp310-manylinux2010_x86_64.whl (498.1 MB)\r\n",
      "Collecting flatbuffers>=1.12\r\n",
      "  Using cached flatbuffers-22.12.6-py2.py3-none-any.whl (26 kB)\r\n",
      "Collecting tensorflow>=1.14\r\n",
      "  Using cached tensorflow-2.8.3-cp310-cp310-manylinux2010_x86_64.whl (498.5 MB)\r\n",
      "  Using cached tensorflow-2.8.2-cp310-cp310-manylinux2010_x86_64.whl (498.0 MB)\r\n",
      "  Using cached tensorflow-2.8.1-cp310-cp310-manylinux2010_x86_64.whl (498.0 MB)\r\n",
      "  Using cached tensorflow-2.8.0-cp310-cp310-manylinux2010_x86_64.whl (497.6 MB)\r\n",
      "INFO: pip is looking at multiple versions of <Python from Requires-Python> to determine which version is compatible with other requirements. This could take a while.\r\n",
      "INFO: pip is looking at multiple versions of numpy to determine which version is compatible with other requirements. This could take a while.\r\n",
      "Collecting numpy<1.17,>=1.14.5\r\n",
      "  Using cached numpy-1.16.5.zip (5.1 MB)\r\n",
      "  Preparing metadata (setup.py) ... \u001b[?25ldone\r\n",
      "\u001b[?25h  Using cached numpy-1.16.4.zip (5.1 MB)\r\n",
      "  Preparing metadata (setup.py) ... \u001b[?25ldone\r\n",
      "\u001b[?25h  Using cached numpy-1.16.3.zip (5.1 MB)\r\n",
      "  Preparing metadata (setup.py) ... \u001b[?25ldone\r\n",
      "\u001b[?25h  Using cached numpy-1.16.2.zip (5.1 MB)\r\n",
      "  Preparing metadata (setup.py) ... \u001b[?25ldone\r\n",
      "\u001b[?25h  Using cached numpy-1.16.1.zip (5.1 MB)\r\n",
      "  Preparing metadata (setup.py) ... \u001b[?25ldone\r\n",
      "\u001b[?25h  Using cached numpy-1.16.0.zip (5.1 MB)\r\n",
      "  Preparing metadata (setup.py) ... \u001b[?25ldone\r\n",
      "\u001b[?25h  Using cached numpy-1.15.4.zip (4.5 MB)\r\n",
      "  Preparing metadata (setup.py) ... \u001b[?25ldone\r\n",
      "\u001b[?25hINFO: pip is looking at multiple versions of <Python from Requires-Python> to determine which version is compatible with other requirements. This could take a while.\r\n",
      "INFO: pip is looking at multiple versions of numpy to determine which version is compatible with other requirements. This could take a while.\r\n",
      "  Using cached numpy-1.15.3.zip (4.5 MB)\r\n",
      "  Preparing metadata (setup.py) ... \u001b[?25ldone\r\n",
      "\u001b[?25h  Using cached numpy-1.15.2.zip (4.5 MB)\r\n",
      "  Preparing metadata (setup.py) ... \u001b[?25ldone\r\n",
      "\u001b[?25h  Using cached numpy-1.15.1.zip (4.5 MB)\r\n",
      "  Preparing metadata (setup.py) ... \u001b[?25ldone\r\n",
      "\u001b[?25h  Using cached numpy-1.15.0.zip (4.5 MB)\r\n",
      "  Preparing metadata (setup.py) ... \u001b[?25ldone\r\n",
      "\u001b[?25hINFO: pip is looking at multiple versions of librosa to determine which version is compatible with other requirements. This could take a while.\r\n",
      "Collecting librosa>=0.7.0\r\n",
      "  Using cached librosa-0.9.2-py3-none-any.whl (214 kB)\r\n",
      "  Using cached librosa-0.9.1-py3-none-any.whl (213 kB)\r\n",
      "  Using cached librosa-0.9.0-py3-none-any.whl (211 kB)\r\n",
      "  Using cached librosa-0.8.1-py3-none-any.whl (203 kB)\r\n",
      "INFO: This is taking longer than usual. You might need to provide the dependency resolver with stricter constraints to reduce runtime. See https://pip.pypa.io/warnings/backtracking for guidance. If you want to abort this run, press Ctrl + C.\r\n",
      "INFO: This is taking longer than usual. You might need to provide the dependency resolver with stricter constraints to reduce runtime. See https://pip.pypa.io/warnings/backtracking for guidance. If you want to abort this run, press Ctrl + C.\r\n",
      "  Using cached librosa-0.8.0.tar.gz (183 kB)\r\n",
      "  Preparing metadata (setup.py) ... \u001b[?25ldone\r\n",
      "\u001b[?25h  Using cached librosa-0.7.2.tar.gz (1.6 MB)\r\n",
      "  Preparing metadata (setup.py) ... \u001b[?25ldone\r\n",
      "\u001b[?25hRequirement already satisfied: six>=1.3 in ./Magistritöö/env/lib/python3.10/site-packages (from librosa>=0.7.0->musicnn) (1.16.0)\r\n",
      "  Using cached librosa-0.7.1.tar.gz (1.6 MB)\r\n",
      "  Preparing metadata (setup.py) ... \u001b[?25ldone\r\n",
      "\u001b[?25h  Using cached librosa-0.7.0.tar.gz (1.6 MB)\r\n",
      "  Preparing metadata (setup.py) ... \u001b[?25ldone\r\n",
      "\u001b[?25hINFO: pip is looking at multiple versions of musicnn to determine which version is compatible with other requirements. This could take a while.\r\n",
      "Collecting musicnn\r\n",
      "  Using cached musicnn-0.0.4-py3-none-any.whl (22.9 MB)\r\n",
      "INFO: pip is looking at multiple versions of librosa to determine which version is compatible with other requirements. This could take a while.\r\n",
      "  Using cached musicnn-0.0.3-py3-none-any.whl (22.9 MB)\r\n",
      "INFO: This is taking longer than usual. You might need to provide the dependency resolver with stricter constraints to reduce runtime. See https://pip.pypa.io/warnings/backtracking for guidance. If you want to abort this run, press Ctrl + C.\r\n",
      "  Using cached musicnn-0.0.2-py3-none-any.whl (8.3 MB)\r\n",
      "  Using cached musicnn-0.0.1-py3-none-any.whl (8.3 MB)\r\n",
      "\u001b[31mERROR: Cannot install musicnn and musicnn==0.0.1 because these package versions have conflicting dependencies.\u001b[0m\u001b[31m\r\n",
      "\u001b[0m\r\n",
      "The conflict is caused by:\r\n",
      "    musicnn 0.0.1 depends on numpy<1.17 and >=1.14.5\r\n",
      "    librosa 0.9.2 depends on numpy>=1.17.0\r\n",
      "    musicnn 0.0.1 depends on numpy<1.17 and >=1.14.5\r\n",
      "    librosa 0.9.1 depends on numpy>=1.17.0\r\n",
      "    musicnn 0.0.1 depends on numpy<1.17 and >=1.14.5\r\n",
      "    librosa 0.9.0 depends on numpy>=1.17.0\r\n",
      "\r\n",
      "To fix this you could try to:\r\n",
      "1. loosen the range of package versions you've specified\r\n",
      "2. remove package versions to allow pip attempt to solve the dependency conflict\r\n",
      "\r\n",
      "\u001b[31mERROR: ResolutionImpossible: for help visit https://pip.pypa.io/en/latest/topics/dependency-resolution/#dealing-with-dependency-conflicts\u001b[0m\u001b[31m\r\n",
      "\u001b[0m\r\n",
      "\u001b[1m[\u001b[0m\u001b[34;49mnotice\u001b[0m\u001b[1;39;49m]\u001b[0m\u001b[39;49m A new release of pip available: \u001b[0m\u001b[31;49m22.2.2\u001b[0m\u001b[39;49m -> \u001b[0m\u001b[32;49m22.3.1\u001b[0m\r\n",
      "\u001b[1m[\u001b[0m\u001b[34;49mnotice\u001b[0m\u001b[1;39;49m]\u001b[0m\u001b[39;49m To update, run: \u001b[0m\u001b[32;49mpip install --upgrade pip\u001b[0m\r\n"
     ]
    }
   ],
   "source": [
    "!pip install musicnn"
   ]
  },
  {
   "cell_type": "code",
   "execution_count": null,
   "metadata": {},
   "outputs": [],
   "source": []
  }
 ],
 "metadata": {
  "kernelspec": {
   "display_name": "Python 3 (ipykernel)",
   "language": "python",
   "name": "python3"
  },
  "language_info": {
   "codemirror_mode": {
    "name": "ipython",
    "version": 3
   },
   "file_extension": ".py",
   "mimetype": "text/x-python",
   "name": "python",
   "nbconvert_exporter": "python",
   "pygments_lexer": "ipython3",
   "version": "3.10.6"
  }
 },
 "nbformat": 4,
 "nbformat_minor": 1
}
